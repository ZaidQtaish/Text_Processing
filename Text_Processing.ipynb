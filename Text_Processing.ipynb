{
  "nbformat": 4,
  "nbformat_minor": 0,
  "metadata": {
    "colab": {
      "provenance": [],
      "authorship_tag": "ABX9TyMSm0acckGnZRpaBMak0XDJ",
      "include_colab_link": true
    },
    "kernelspec": {
      "name": "python3",
      "display_name": "Python 3"
    },
    "language_info": {
      "name": "python"
    }
  },
  "cells": [
    {
      "cell_type": "markdown",
      "metadata": {
        "id": "view-in-github",
        "colab_type": "text"
      },
      "source": [
        "<a href=\"https://colab.research.google.com/github/ZaidQtaish/Text_Processing/blob/main/Text_Processing.ipynb\" target=\"_parent\"><img src=\"https://colab.research.google.com/assets/colab-badge.svg\" alt=\"Open In Colab\"/></a>"
      ]
    },
    {
      "cell_type": "code",
      "execution_count": null,
      "metadata": {
        "id": "9K9aE-FlQHzn"
      },
      "outputs": [],
      "source": []
    },
    {
      "cell_type": "code",
      "metadata": {
        "id": "a8e3acc5"
      },
      "source": [
        "import nltk\n"
      ],
      "execution_count": null,
      "outputs": []
    },
    {
      "cell_type": "code",
      "metadata": {
        "colab": {
          "base_uri": "https://localhost:8080/"
        },
        "id": "4097fd51",
        "outputId": "2b5b27b6-dd4b-4d66-b34d-cd38212a86c3"
      },
      "source": [
        "import re\n",
        "from nltk.corpus import stopwords\n",
        "from nltk.tokenize import word_tokenize\n",
        "from nltk.stem import PorterStemmer, WordNetLemmatizer\n",
        "from nltk import pos_tag\n",
        "\n",
        "# Sample text for processing\n",
        "text = \"This is a sample sentence to demonstrate text processing steps.\"\n",
        "\n",
        "# Cleaning\n",
        "text = re.sub(r'[^a-zA-Z\\s]', '', text).lower()\n",
        "print(f\"Cleaned text: {text}\")\n",
        "\n",
        "# Tokenization\n",
        "tokens = word_tokenize(text)\n",
        "print(f\"Tokens: {tokens}\")\n",
        "\n",
        "# Stemming\n",
        "stemmer = PorterStemmer()\n",
        "stemmed_tokens = [stemmer.stem(token) for token in tokens]\n",
        "print(f\"Stemmed tokens: {stemmed_tokens}\")\n",
        "\n",
        "# Lemmatization\n",
        "lemmatizer = WordNetLemmatizer()\n",
        "lemmatized_tokens = [lemmatizer.lemmatize(token) for token in tokens]\n",
        "print(f\"Lemmatized tokens: {lemmatized_tokens}\")\n",
        "\n",
        "# POS Tagging\n",
        "pos_tags = pos_tag(tokens)\n",
        "print(f\"POS tags: {pos_tags}\")\n"
      ],
      "execution_count": null,
      "outputs": [
        {
          "output_type": "stream",
          "name": "stdout",
          "text": [
            "Cleaned text: this is a sample sentence to demonstrate text processing steps\n",
            "Tokens: ['this', 'is', 'a', 'sample', 'sentence', 'to', 'demonstrate', 'text', 'processing', 'steps']\n",
            "Stemmed tokens: ['thi', 'is', 'a', 'sampl', 'sentenc', 'to', 'demonstr', 'text', 'process', 'step']\n",
            "Lemmatized tokens: ['this', 'is', 'a', 'sample', 'sentence', 'to', 'demonstrate', 'text', 'processing', 'step']\n",
            "POS tags: [('this', 'DT'), ('is', 'VBZ'), ('a', 'DT'), ('sample', 'JJ'), ('sentence', 'NN'), ('to', 'TO'), ('demonstrate', 'VB'), ('text', 'NN'), ('processing', 'NN'), ('steps', 'NNS')]\n",
            "Index Creation (Conceptual): Processed tokens are ready for indexing.\n"
          ]
        }
      ]
    },
    {
      "cell_type": "code",
      "metadata": {
        "colab": {
          "base_uri": "https://localhost:8080/"
        },
        "id": "fda804e1",
        "outputId": "fa470d2e-08b3-4a45-82be-f1323717da8d"
      },
      "source": [
        "# Basic Index Creation Example\n",
        "index = {}\n",
        "document_id = 'doc1' # Assuming this is processing a single document\n",
        "\n",
        "for i, token in enumerate(lemmatized_tokens): # Using lemmatized tokens for indexing\n",
        "    if token not in index:\n",
        "        index[token] = []\n",
        "    # Store document ID and optionally the position\n",
        "    index[token].append((document_id, i))\n",
        "\n",
        "print(f\"\\nBasic Index:\")\n",
        "for word, postings in index.items():\n",
        "    print(f\"'{word}': {postings}\")"
      ],
      "execution_count": null,
      "outputs": [
        {
          "output_type": "stream",
          "name": "stdout",
          "text": [
            "\n",
            "Basic Index:\n",
            "'this': [('doc1', 0)]\n",
            "'is': [('doc1', 1)]\n",
            "'a': [('doc1', 2)]\n",
            "'sample': [('doc1', 3)]\n",
            "'sentence': [('doc1', 4)]\n",
            "'to': [('doc1', 5)]\n",
            "'demonstrate': [('doc1', 6)]\n",
            "'text': [('doc1', 7)]\n",
            "'processing': [('doc1', 8)]\n",
            "'step': [('doc1', 9)]\n"
          ]
        }
      ]
    }
  ]
}